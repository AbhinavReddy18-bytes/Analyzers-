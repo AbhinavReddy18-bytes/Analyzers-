{
 "cells": [
  {
   "cell_type": "code",
   "execution_count": 13,
   "metadata": {},
   "outputs": [
    {
     "name": "stderr",
     "output_type": "stream",
     "text": [
      "Some weights of RobertaModel were not initialized from the model checkpoint at roberta-base and are newly initialized: ['roberta.pooler.dense.bias', 'roberta.pooler.dense.weight']\n",
      "You should probably TRAIN this model on a down-stream task to be able to use it for predictions and inference.\n"
     ]
    }
   ],
   "source": [
    "from transformers import RobertaModel, RobertaTokenizer\n",
    "\n",
    "tokenizer = RobertaTokenizer.from_pretrained('roberta-base')\n",
    "model = RobertaModel.from_pretrained('roberta-base')\n"
   ]
  },
  {
   "cell_type": "code",
   "execution_count": 14,
   "metadata": {},
   "outputs": [],
   "source": [
    "import torch\n",
    "from sklearn.metrics.pairwise import cosine_similarity\n",
    "import numpy as np\n",
    "\n",
    "def process_text(text):\n",
    "    # Tokenize input text\n",
    "    inputs = tokenizer(text, return_tensors='pt', max_length=512, truncation=True)\n",
    "    \n",
    "    # Forward pass through RoBERTa model\n",
    "    with torch.no_grad():\n",
    "        outputs = model(**inputs)\n",
    "    \n",
    "    # Extract the last hidden state (corresponding to [CLS] token)\n",
    "    last_hidden_state = outputs.last_hidden_state\n",
    "    \n",
    "    # Compute mean pooling of the last hidden state\n",
    "    pooled_output = torch.mean(last_hidden_state, dim=1).squeeze()\n",
    "    \n",
    "    return pooled_output\n",
    "\n",
    "def compute_similarity(file1_path, file2_path):\n",
    "    # Read contents of file1\n",
    "    with open(file1_path, 'r', encoding='utf-8') as file:\n",
    "        text1 = file.read().strip()\n",
    "    \n",
    "    # Read contents of file2\n",
    "    with open(file2_path, 'r', encoding='utf-8') as file:\n",
    "        text2 = file.read().strip()\n",
    "    \n",
    "    # Process both texts to obtain embeddings\n",
    "    embeddings1 = process_text(text1)\n",
    "    embeddings2 = process_text(text2)\n",
    "    \n",
    "    # Convert embeddings to numpy arrays and compute cosine similarity\n",
    "    similarity_score = cosine_similarity([embeddings1.numpy()], [embeddings2.numpy()])[0][0]\n",
    "    \n",
    "    return similarity_score\n"
   ]
  },
  {
   "cell_type": "code",
   "execution_count": 15,
   "metadata": {},
   "outputs": [
    {
     "name": "stdout",
     "output_type": "stream",
     "text": [
      "Similarity Score: 0.99632895\n"
     ]
    }
   ],
   "source": [
    "# File paths for input texts\n",
    "file1_path = 'NYC_cleaned_penal_codes.csv'\n",
    "file2_path = 'Cali_cleaned_penal_codes.csv'\n",
    "\n",
    "# Compute similarity between texts in files\n",
    "similarity_score = compute_similarity(file1_path, file2_path)\n",
    "print(\"Similarity Score:\", similarity_score)"
   ]
  }
 ],
 "metadata": {
  "kernelspec": {
   "display_name": "Python 3",
   "language": "python",
   "name": "python3"
  },
  "language_info": {
   "codemirror_mode": {
    "name": "ipython",
    "version": 3
   },
   "file_extension": ".py",
   "mimetype": "text/x-python",
   "name": "python",
   "nbconvert_exporter": "python",
   "pygments_lexer": "ipython3",
   "version": "3.12.2"
  }
 },
 "nbformat": 4,
 "nbformat_minor": 2
}

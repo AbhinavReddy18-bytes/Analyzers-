{
  "nbformat": 4,
  "nbformat_minor": 0,
  "metadata": {
    "colab": {
      "provenance": [],
      "gpuType": "T4"
    },
    "kernelspec": {
      "name": "python3",
      "display_name": "Python 3"
    },
    "language_info": {
      "name": "python"
    },
    "accelerator": "GPU"
  },
  "cells": [
    {
      "cell_type": "markdown",
      "source": [
        "#Installing Libraries"
      ],
      "metadata": {
        "id": "yHJZKJ5kkzrB"
      }
    },
    {
      "cell_type": "code",
      "source": [
        "pip install -U sentence-transformers"
      ],
      "metadata": {
        "colab": {
          "base_uri": "https://localhost:8080/"
        },
        "id": "7KfVsDefk6Jj",
        "outputId": "eb471c19-bcaf-44f0-8352-dad07ad685d2"
      },
      "execution_count": 11,
      "outputs": [
        {
          "output_type": "stream",
          "name": "stdout",
          "text": [
            "Requirement already satisfied: sentence-transformers in /usr/local/lib/python3.10/dist-packages (2.6.1)\n",
            "Requirement already satisfied: transformers<5.0.0,>=4.32.0 in /usr/local/lib/python3.10/dist-packages (from sentence-transformers) (4.38.2)\n",
            "Requirement already satisfied: tqdm in /usr/local/lib/python3.10/dist-packages (from sentence-transformers) (4.66.2)\n",
            "Requirement already satisfied: torch>=1.11.0 in /usr/local/lib/python3.10/dist-packages (from sentence-transformers) (2.2.1+cu121)\n",
            "Requirement already satisfied: numpy in /usr/local/lib/python3.10/dist-packages (from sentence-transformers) (1.25.2)\n",
            "Requirement already satisfied: scikit-learn in /usr/local/lib/python3.10/dist-packages (from sentence-transformers) (1.2.2)\n",
            "Requirement already satisfied: scipy in /usr/local/lib/python3.10/dist-packages (from sentence-transformers) (1.11.4)\n",
            "Requirement already satisfied: huggingface-hub>=0.15.1 in /usr/local/lib/python3.10/dist-packages (from sentence-transformers) (0.20.3)\n",
            "Requirement already satisfied: Pillow in /usr/local/lib/python3.10/dist-packages (from sentence-transformers) (9.4.0)\n",
            "Requirement already satisfied: filelock in /usr/local/lib/python3.10/dist-packages (from huggingface-hub>=0.15.1->sentence-transformers) (3.13.3)\n",
            "Requirement already satisfied: fsspec>=2023.5.0 in /usr/local/lib/python3.10/dist-packages (from huggingface-hub>=0.15.1->sentence-transformers) (2023.6.0)\n",
            "Requirement already satisfied: requests in /usr/local/lib/python3.10/dist-packages (from huggingface-hub>=0.15.1->sentence-transformers) (2.31.0)\n",
            "Requirement already satisfied: pyyaml>=5.1 in /usr/local/lib/python3.10/dist-packages (from huggingface-hub>=0.15.1->sentence-transformers) (6.0.1)\n",
            "Requirement already satisfied: typing-extensions>=3.7.4.3 in /usr/local/lib/python3.10/dist-packages (from huggingface-hub>=0.15.1->sentence-transformers) (4.10.0)\n",
            "Requirement already satisfied: packaging>=20.9 in /usr/local/lib/python3.10/dist-packages (from huggingface-hub>=0.15.1->sentence-transformers) (24.0)\n",
            "Requirement already satisfied: sympy in /usr/local/lib/python3.10/dist-packages (from torch>=1.11.0->sentence-transformers) (1.12)\n",
            "Requirement already satisfied: networkx in /usr/local/lib/python3.10/dist-packages (from torch>=1.11.0->sentence-transformers) (3.2.1)\n",
            "Requirement already satisfied: jinja2 in /usr/local/lib/python3.10/dist-packages (from torch>=1.11.0->sentence-transformers) (3.1.3)\n",
            "Requirement already satisfied: nvidia-cuda-nvrtc-cu12==12.1.105 in /usr/local/lib/python3.10/dist-packages (from torch>=1.11.0->sentence-transformers) (12.1.105)\n",
            "Requirement already satisfied: nvidia-cuda-runtime-cu12==12.1.105 in /usr/local/lib/python3.10/dist-packages (from torch>=1.11.0->sentence-transformers) (12.1.105)\n",
            "Requirement already satisfied: nvidia-cuda-cupti-cu12==12.1.105 in /usr/local/lib/python3.10/dist-packages (from torch>=1.11.0->sentence-transformers) (12.1.105)\n",
            "Requirement already satisfied: nvidia-cudnn-cu12==8.9.2.26 in /usr/local/lib/python3.10/dist-packages (from torch>=1.11.0->sentence-transformers) (8.9.2.26)\n",
            "Requirement already satisfied: nvidia-cublas-cu12==12.1.3.1 in /usr/local/lib/python3.10/dist-packages (from torch>=1.11.0->sentence-transformers) (12.1.3.1)\n",
            "Requirement already satisfied: nvidia-cufft-cu12==11.0.2.54 in /usr/local/lib/python3.10/dist-packages (from torch>=1.11.0->sentence-transformers) (11.0.2.54)\n",
            "Requirement already satisfied: nvidia-curand-cu12==10.3.2.106 in /usr/local/lib/python3.10/dist-packages (from torch>=1.11.0->sentence-transformers) (10.3.2.106)\n",
            "Requirement already satisfied: nvidia-cusolver-cu12==11.4.5.107 in /usr/local/lib/python3.10/dist-packages (from torch>=1.11.0->sentence-transformers) (11.4.5.107)\n",
            "Requirement already satisfied: nvidia-cusparse-cu12==12.1.0.106 in /usr/local/lib/python3.10/dist-packages (from torch>=1.11.0->sentence-transformers) (12.1.0.106)\n",
            "Requirement already satisfied: nvidia-nccl-cu12==2.19.3 in /usr/local/lib/python3.10/dist-packages (from torch>=1.11.0->sentence-transformers) (2.19.3)\n",
            "Requirement already satisfied: nvidia-nvtx-cu12==12.1.105 in /usr/local/lib/python3.10/dist-packages (from torch>=1.11.0->sentence-transformers) (12.1.105)\n",
            "Requirement already satisfied: triton==2.2.0 in /usr/local/lib/python3.10/dist-packages (from torch>=1.11.0->sentence-transformers) (2.2.0)\n",
            "Requirement already satisfied: nvidia-nvjitlink-cu12 in /usr/local/lib/python3.10/dist-packages (from nvidia-cusolver-cu12==11.4.5.107->torch>=1.11.0->sentence-transformers) (12.4.127)\n",
            "Requirement already satisfied: regex!=2019.12.17 in /usr/local/lib/python3.10/dist-packages (from transformers<5.0.0,>=4.32.0->sentence-transformers) (2023.12.25)\n",
            "Requirement already satisfied: tokenizers<0.19,>=0.14 in /usr/local/lib/python3.10/dist-packages (from transformers<5.0.0,>=4.32.0->sentence-transformers) (0.15.2)\n",
            "Requirement already satisfied: safetensors>=0.4.1 in /usr/local/lib/python3.10/dist-packages (from transformers<5.0.0,>=4.32.0->sentence-transformers) (0.4.2)\n",
            "Requirement already satisfied: joblib>=1.1.1 in /usr/local/lib/python3.10/dist-packages (from scikit-learn->sentence-transformers) (1.3.2)\n",
            "Requirement already satisfied: threadpoolctl>=2.0.0 in /usr/local/lib/python3.10/dist-packages (from scikit-learn->sentence-transformers) (3.4.0)\n",
            "Requirement already satisfied: MarkupSafe>=2.0 in /usr/local/lib/python3.10/dist-packages (from jinja2->torch>=1.11.0->sentence-transformers) (2.1.5)\n",
            "Requirement already satisfied: charset-normalizer<4,>=2 in /usr/local/lib/python3.10/dist-packages (from requests->huggingface-hub>=0.15.1->sentence-transformers) (3.3.2)\n",
            "Requirement already satisfied: idna<4,>=2.5 in /usr/local/lib/python3.10/dist-packages (from requests->huggingface-hub>=0.15.1->sentence-transformers) (3.6)\n",
            "Requirement already satisfied: urllib3<3,>=1.21.1 in /usr/local/lib/python3.10/dist-packages (from requests->huggingface-hub>=0.15.1->sentence-transformers) (2.0.7)\n",
            "Requirement already satisfied: certifi>=2017.4.17 in /usr/local/lib/python3.10/dist-packages (from requests->huggingface-hub>=0.15.1->sentence-transformers) (2024.2.2)\n",
            "Requirement already satisfied: mpmath>=0.19 in /usr/local/lib/python3.10/dist-packages (from sympy->torch>=1.11.0->sentence-transformers) (1.3.0)\n"
          ]
        }
      ]
    },
    {
      "cell_type": "markdown",
      "source": [
        "#Importing Libraries"
      ],
      "metadata": {
        "id": "ZPloCQLbjbZf"
      }
    },
    {
      "cell_type": "code",
      "source": [
        "# Import libraries\n",
        "import pandas as pd\n",
        "import numpy as np\n",
        "from sklearn.feature_extraction.text import TfidfVectorizer\n",
        "from sklearn.metrics.pairwise import cosine_similarity\n",
        "from transformers import BertTokenizer, BertModel, RobertaTokenizer, RobertaModel, XLNetTokenizer, XLNetModel, GPT2Tokenizer, GPT2Model\n",
        "import torch\n",
        "import tensorflow_hub as hub\n",
        "from sentence_transformers import SentenceTransformer\n",
        "import scipy.spatial\n",
        "import matplotlib.pyplot as plt\n",
        "import seaborn as sns"
      ],
      "metadata": {
        "id": "6hxGEM6RjZFu"
      },
      "execution_count": 26,
      "outputs": []
    },
    {
      "cell_type": "markdown",
      "source": [
        "#Dataset Loading and General Preprocessing"
      ],
      "metadata": {
        "id": "ETRpwIBDjg-7"
      }
    },
    {
      "cell_type": "code",
      "source": [
        "# Load the datasets\n",
        "# Code testing was done in Google Colab, hence the path /content/dataset\n",
        "cali_df = pd.read_csv('/content/Cali_cleaned_penal_codes.csv')\n",
        "nyc_df = pd.read_csv('/content/NYC_cleaned_penal_codes.csv')\n",
        "\n",
        "# Preprocess and extract laws as lists of strings\n",
        "cali_laws = cali_df['citation'].astype(str).tolist()\n",
        "ny_laws = nyc_df['citation'].astype(str).tolist()"
      ],
      "metadata": {
        "id": "3DJ63qf9jnQF"
      },
      "execution_count": 13,
      "outputs": []
    },
    {
      "cell_type": "markdown",
      "source": [
        "#TF-IDF Similarity Calculation"
      ],
      "metadata": {
        "id": "Oc785f2TkIFk"
      }
    },
    {
      "cell_type": "markdown",
      "source": [
        "##Whole Law Dataset Comparison"
      ],
      "metadata": {
        "id": "7S1hGODWkX22"
      }
    },
    {
      "cell_type": "code",
      "source": [
        "# TF-IDF Whole Comparison\n",
        "cali_combined = ' '.join(cali_laws)\n",
        "nyc_combined = ' '.join(ny_laws)\n",
        "\n",
        "vectorizer_combined = TfidfVectorizer()\n",
        "tfidf_combined = vectorizer_combined.fit_transform([cali_combined, nyc_combined])\n",
        "cosine_similarity_combined = cosine_similarity(tfidf_combined[0:1], tfidf_combined[1:2])\n",
        "\n",
        "avg_similarity_tfidf_whole = cosine_similarity_combined[0][0]\n",
        "\n",
        "print(f'Average Similarity Score (TF-IDF Whole):  {avg_similarity_tfidf_whole}')\n"
      ],
      "metadata": {
        "colab": {
          "base_uri": "https://localhost:8080/"
        },
        "id": "w6h2ddgYkKG3",
        "outputId": "adff5220-d4be-4255-f2bb-5712bdab5826"
      },
      "execution_count": 29,
      "outputs": [
        {
          "output_type": "stream",
          "name": "stdout",
          "text": [
            "Average Similarity Score (TF-IDF Whole):  0.8969831983195962\n"
          ]
        }
      ]
    },
    {
      "cell_type": "markdown",
      "source": [
        "##Law by Law Comparison"
      ],
      "metadata": {
        "id": "wtVzVYMrkdLm"
      }
    },
    {
      "cell_type": "code",
      "source": [
        "# TF-IDF Law by Law Comparison\n",
        "vectorizer = TfidfVectorizer()\n",
        "all_laws_tfidf = vectorizer.fit_transform(cali_laws + ny_laws)\n",
        "\n",
        "cali_tfidf = all_laws_tfidf[:len(cali_laws)]\n",
        "ny_tfidf = all_laws_tfidf[len(cali_laws):]\n",
        "\n",
        "similarity_scores_tfidf = []\n",
        "for ny_law_tfidf in ny_tfidf:\n",
        "    law_scores_tfidf = cosine_similarity(ny_law_tfidf, cali_tfidf)[0]\n",
        "    avg_score_tfidf = np.mean(law_scores_tfidf)\n",
        "    similarity_scores_tfidf.append(avg_score_tfidf)\n",
        "\n",
        "# Similarity Calculation for TF-IDF (Law by Law)\n",
        "avg_similarity_tfidf = np.mean(similarity_scores_tfidf)\n",
        "print(f'Average Similarity Score (TF-IDF Law by Law): {avg_similarity_tfidf}')"
      ],
      "metadata": {
        "colab": {
          "base_uri": "https://localhost:8080/"
        },
        "id": "DoPP0T8IkfPB",
        "outputId": "c27716a6-74ac-4a9c-df27-129964778497"
      },
      "execution_count": 17,
      "outputs": [
        {
          "output_type": "stream",
          "name": "stdout",
          "text": [
            "Average Similarity Score (TF-IDF Law by Law): 0.09475459861894778\n"
          ]
        }
      ]
    },
    {
      "cell_type": "markdown",
      "source": [
        "#GPT-2 Embeddings and Similarity Calculation"
      ],
      "metadata": {
        "id": "PXiSg3k0j94g"
      }
    },
    {
      "cell_type": "code",
      "source": [
        "# GPT-2 Embeddings\n",
        "tokenizer_gpt2 = GPT2Tokenizer.from_pretrained('gpt2')\n",
        "model_gpt2 = GPT2Model.from_pretrained('gpt2')\n",
        "model_gpt2.to('cuda')\n",
        "tokenizer_gpt2.pad_token = tokenizer_gpt2.eos_token\n",
        "\n",
        "def encode_with_gpt2(texts, tokenizer, model, batch_size=8):\n",
        "    model.eval()\n",
        "    embeddings = []\n",
        "    for i in range(0, len(texts), batch_size):\n",
        "        batch_texts = texts[i:i+batch_size]\n",
        "        inputs = tokenizer(batch_texts, return_tensors='pt', padding=True, truncation=True, max_length=512).to('cuda')\n",
        "        with torch.no_grad():\n",
        "            outputs = model(**inputs)\n",
        "        batch_embeddings = outputs.last_hidden_state.mean(dim=1).cpu().numpy()\n",
        "        embeddings.extend(batch_embeddings)\n",
        "    return np.array(embeddings)\n",
        "\n",
        "cali_embeddings_gpt2 = encode_with_gpt2(cali_laws, tokenizer_gpt2, model_gpt2)\n",
        "ny_embeddings_gpt2 = encode_with_gpt2(ny_laws, tokenizer_gpt2, model_gpt2)\n",
        "\n",
        "# Similarity Calculation for GPT-2\n",
        "similarity_scores_gpt2 = cosine_similarity(ny_embeddings_gpt2, cali_embeddings_gpt2)\n",
        "avg_similarity_gpt2 = np.mean(similarity_scores_gpt2)\n",
        "print(f'Average Similarity Score (GPT-2): {avg_similarity_gpt2}')\n"
      ],
      "metadata": {
        "id": "i2AWgD8tkAst",
        "colab": {
          "base_uri": "https://localhost:8080/"
        },
        "outputId": "8cf2b478-913d-4c3e-8b75-bd9e4cfe69d9"
      },
      "execution_count": 21,
      "outputs": [
        {
          "output_type": "stream",
          "name": "stdout",
          "text": [
            "Average Similarity Score (GPT-2): 0.9833701848983765\n"
          ]
        }
      ]
    },
    {
      "cell_type": "markdown",
      "source": [
        "#RoBERTa Embeddings and Similarity Calculation"
      ],
      "metadata": {
        "id": "nvzSk5hYjt6n"
      }
    },
    {
      "cell_type": "code",
      "source": [
        "# RoBERTa Embeddings\n",
        "tokenizer_roberta = RobertaTokenizer.from_pretrained('roberta-base')\n",
        "model_roberta = RobertaModel.from_pretrained('roberta-base')\n",
        "model_roberta.to('cuda')\n",
        "\n",
        "def encode_with_roberta(texts, tokenizer, model, batch_size=8):\n",
        "    model.eval()\n",
        "    embeddings = []\n",
        "    for i in range(0, len(texts), batch_size):\n",
        "        batch_texts = texts[i:i+batch_size]\n",
        "        inputs = tokenizer(batch_texts, return_tensors='pt', padding=True, truncation=True, max_length=512).to('cuda')\n",
        "        with torch.no_grad():\n",
        "            outputs = model(**inputs)\n",
        "        batch_embeddings = outputs.last_hidden_state.mean(dim=1).cpu().numpy()\n",
        "        embeddings.extend(batch_embeddings)\n",
        "    return np.array(embeddings)\n",
        "\n",
        "cali_embeddings_roberta = encode_with_roberta(cali_laws, tokenizer_roberta, model_roberta)\n",
        "ny_embeddings_roberta = encode_with_roberta(ny_laws, tokenizer_roberta, model_roberta)\n",
        "\n",
        "# Similarity Calculation for RoBERTa\n",
        "similarity_scores_roberta = cosine_similarity(ny_embeddings_roberta, cali_embeddings_roberta)\n",
        "avg_similarity_roberta = np.mean(similarity_scores_roberta)\n",
        "print(f'Average Similarity Score (RoBERTa): {avg_similarity_roberta}')"
      ],
      "metadata": {
        "id": "XSfWLJgtjwsd",
        "colab": {
          "base_uri": "https://localhost:8080/"
        },
        "outputId": "a19dc5a9-1ce3-48a1-8341-e41b9dbf32ee"
      },
      "execution_count": 19,
      "outputs": [
        {
          "output_type": "stream",
          "name": "stderr",
          "text": [
            "Some weights of RobertaModel were not initialized from the model checkpoint at roberta-base and are newly initialized: ['roberta.pooler.dense.bias', 'roberta.pooler.dense.weight']\n",
            "You should probably TRAIN this model on a down-stream task to be able to use it for predictions and inference.\n"
          ]
        },
        {
          "output_type": "stream",
          "name": "stdout",
          "text": [
            "Average Similarity Score (RoBERTa): 0.9437848329544067\n"
          ]
        }
      ]
    },
    {
      "cell_type": "markdown",
      "source": [
        "#BERT Embeddings and Similarity Calculation"
      ],
      "metadata": {
        "id": "9UFx72N-jqAR"
      }
    },
    {
      "cell_type": "code",
      "source": [
        "# BERT Embeddings\n",
        "tokenizer_bert = BertTokenizer.from_pretrained('bert-base-uncased')\n",
        "model_bert = BertModel.from_pretrained('bert-base-uncased')\n",
        "model_bert.to('cuda')\n",
        "\n",
        "def encode_with_bert(texts, tokenizer, model, batch_size=8):\n",
        "    model.eval()\n",
        "    embeddings = []\n",
        "    for i in range(0, len(texts), batch_size):\n",
        "        batch_texts = texts[i:i+batch_size]\n",
        "        inputs = tokenizer(batch_texts, return_tensors='pt', padding=True, truncation=True, max_length=512).to('cuda')\n",
        "        outputs = model(**inputs)\n",
        "        batch_embeddings = outputs.last_hidden_state.mean(dim=1).detach().cpu().numpy()\n",
        "        embeddings.extend(batch_embeddings)\n",
        "    return np.array(embeddings)\n",
        "\n",
        "cali_embeddings_bert = encode_with_bert(cali_laws, tokenizer_bert, model_bert)\n",
        "ny_embeddings_bert = encode_with_bert(ny_laws, tokenizer_bert, model_bert)\n",
        "\n",
        "# Similarity Calculation for BERT\n",
        "similarity_scores_bert = cosine_similarity(ny_embeddings_bert, cali_embeddings_bert)\n",
        "avg_similarity_bert = np.mean(similarity_scores_bert)\n",
        "print(f'Average Similarity Score (BERT): {avg_similarity_bert}')"
      ],
      "metadata": {
        "id": "jXuY2qpojrAV",
        "colab": {
          "base_uri": "https://localhost:8080/"
        },
        "outputId": "1f793bc9-7bad-4efc-dde6-060276a4ac84"
      },
      "execution_count": 18,
      "outputs": [
        {
          "output_type": "stream",
          "name": "stdout",
          "text": [
            "Average Similarity Score (BERT): 0.7827407121658325\n"
          ]
        }
      ]
    },
    {
      "cell_type": "markdown",
      "source": [
        "#XLNet Embeddings and Similarity Calculation"
      ],
      "metadata": {
        "id": "IpRUaLcYjwFd"
      }
    },
    {
      "cell_type": "code",
      "source": [
        "# XLNet Embeddings\n",
        "tokenizer_xlnet = XLNetTokenizer.from_pretrained('xlnet-base-cased')\n",
        "model_xlnet = XLNetModel.from_pretrained('xlnet-base-cased')\n",
        "model_xlnet.to('cuda')\n",
        "\n",
        "def encode_with_xlnet(texts, tokenizer, model, batch_size=8):\n",
        "    model.eval()\n",
        "    embeddings = []\n",
        "    for i in range(0, len(texts), batch_size):\n",
        "        batch_texts = texts[i:i+batch_size]\n",
        "        inputs = tokenizer(batch_texts, return_tensors='pt', padding=True, truncation=True, max_length=512).to('cuda')\n",
        "        with torch.no_grad():\n",
        "            outputs = model(**inputs)\n",
        "        batch_embeddings = outputs.last_hidden_state.mean(dim=1).cpu().numpy()\n",
        "        embeddings.extend(batch_embeddings)\n",
        "    return np.array(embeddings)\n",
        "\n",
        "cali_embeddings_xlnet = encode_with_xlnet(cali_laws, tokenizer_xlnet, model_xlnet)\n",
        "ny_embeddings_xlnet = encode_with_xlnet(ny_laws, tokenizer_xlnet, model_xlnet)\n",
        "\n",
        "# Similarity Calculation for XLNet\n",
        "similarity_scores_xlnet = cosine_similarity(ny_embeddings_xlnet, cali_embeddings_xlnet)\n",
        "avg_similarity_xlnet = np.mean(similarity_scores_xlnet)\n",
        "print(f'Average Similarity Score (XLNet): {avg_similarity_xlnet}')"
      ],
      "metadata": {
        "id": "KSgFNWXxj1eJ",
        "colab": {
          "base_uri": "https://localhost:8080/"
        },
        "outputId": "6960ea54-ce66-40d7-de07-b151350278db"
      },
      "execution_count": 20,
      "outputs": [
        {
          "output_type": "stream",
          "name": "stdout",
          "text": [
            "Average Similarity Score (XLNet): 0.765640377998352\n"
          ]
        }
      ]
    },
    {
      "cell_type": "markdown",
      "source": [
        "#Visualisation of Output"
      ],
      "metadata": {
        "id": "g6NID3ter28X"
      }
    },
    {
      "cell_type": "code",
      "source": [
        "# Set the aesthetic style of the plots\n",
        "sns.set_style(\"whitegrid\")"
      ],
      "metadata": {
        "id": "dWHiH5BKr6In"
      },
      "execution_count": 27,
      "outputs": []
    },
    {
      "cell_type": "code",
      "source": [
        "# Dictionary of model names and their average similarity scores\n",
        "similarity_scores = {\n",
        "    'TF-IDF (Whole)': avg_similarity_tfidf_whole,  # From whole dataset document comparison\n",
        "    'TF-IDF (Avg)': avg_similarity_tfidf,  # From average individual law comparisons\n",
        "    'GPT-2': avg_similarity_gpt2,\n",
        "    'RoBERTa': avg_similarity_roberta,\n",
        "    'BERT': avg_similarity_bert,\n",
        "    'XLNet': avg_similarity_xlnet,\n",
        "}\n",
        "\n",
        "# Convert to DataFrame for easier plotting\n",
        "scores_df = pd.DataFrame(list(similarity_scores.items()), columns=['Model', 'Average Similarity Score'])"
      ],
      "metadata": {
        "id": "c4xQ3AuHr8W_"
      },
      "execution_count": 35,
      "outputs": []
    },
    {
      "cell_type": "code",
      "source": [
        "plt.figure(figsize=(10, 6))\n",
        "barplot = sns.barplot(data=scores_df, x='Model', y='Average Similarity Score', palette='coolwarm')\n",
        "plt.title('Average Similarity Scores by Model')\n",
        "plt.xticks(rotation=45, ha='right')\n",
        "plt.ylabel('Average Similarity Score')\n",
        "plt.xlabel('Model')\n",
        "\n",
        "# Annotate the bars with the actual score values\n",
        "for p in barplot.patches:\n",
        "    barplot.annotate(format(p.get_height(), '.2f'),\n",
        "                     (p.get_x() + p.get_width() / 2., p.get_height()),\n",
        "                     ha = 'center', va = 'center',\n",
        "                     xytext = (0, 9),\n",
        "                     textcoords = 'offset points')\n",
        "\n",
        "plt.tight_layout()  # Adjusts plot to ensure everything fits without overlap\n",
        "plt.show()\n"
      ],
      "metadata": {
        "colab": {
          "base_uri": "https://localhost:8080/",
          "height": 697
        },
        "id": "wfMXSDYrr_6i",
        "outputId": "9a16e5f4-8f72-47e3-fe90-551850ff2a6f"
      },
      "execution_count": 36,
      "outputs": [
        {
          "output_type": "stream",
          "name": "stderr",
          "text": [
            "<ipython-input-36-8993b5008b3e>:2: FutureWarning: \n",
            "\n",
            "Passing `palette` without assigning `hue` is deprecated and will be removed in v0.14.0. Assign the `x` variable to `hue` and set `legend=False` for the same effect.\n",
            "\n",
            "  barplot = sns.barplot(data=scores_df, x='Model', y='Average Similarity Score', palette='coolwarm')\n"
          ]
        },
        {
          "output_type": "display_data",
          "data": {
            "text/plain": [
              "<Figure size 1000x600 with 1 Axes>"
            ],
            "image/png": "[encoded data removed]"
          },
          "metadata": {}
        }
      ]
    },
    {
      "cell_type": "markdown",
      "source": [
        "#Analysis"
      ],
      "metadata": {
        "id": "-MYDB_HQtrtc"
      }
    },
    {
      "cell_type": "markdown",
      "source": [
        "### High Similarity Scores (TF-IDF Whole, GPT-2, RoBERTa):\n",
        "- **TF-IDF (Whole)**: The high score indicates that when considered as a single corpus, the legal codes of California and New York share a significant amount of terminology and phrasing. This is common in legal documents where certain phrases, definitions, and structures recur frequently.\n",
        "- **GPT-2**: GPT-2's high score suggests that the model, which is adept at generating coherent text, is also recognizing the structured and formulaic nature of legal language. This score may reflect GPT-2's focus on stylistic coherence over the semantic content, suggesting that the legal texts have similar styles or use similar \"boilerplate\" language.\n",
        "- **RoBERTa**: As an optimized version of BERT, RoBERTa's high similarity score can imply that the model is effectively capturing both the shared legal terminology and the contextual semantics within the legal codes, possibly indicating a deep understanding of the texts' similarities.\n",
        "\n",
        "### Moderate Similarity Scores (BERT, XLNet):\n",
        "- **BERT and XLNet**: These models offer a nuanced understanding of the context within texts, potentially identifying both shared and distinct elements within the legal codes. Their moderate scores suggest that while there's considerable overlap in the way legal concepts are expressed, there are also significant differences between the states' laws that the models are recognizing.\n",
        "\n",
        "### Low Similarity Score (TF-IDF Average):\n",
        "- **TF-IDF (Avg)**: The low score from the average of individual law comparisons using TF-IDF indicates that when each law is considered on its own, there are significant differences in the specific language and content of the laws. This score likely reflects the unique aspects of each state's legal statutes and the variability across individual documents.\n",
        
        "### Insights and Conclusions :\n",
        "The variability in scores across models underscores the complexity of measuring textual similarity, especially in specialized domains like legal texts. The scores reflect the interplay between shared legal language and jurisdiction-specific legal stipulations:\n",
        "\n",
        "- **Jurisdiction-Specific Content**: The unique legal stipulations and frameworks that differentiate California's and New York's legal systems are likely contributing to the differences captured by models that focus on semantic content, like BERT and XLNet.\n",
        "  \n",
        "- **Model Sensitivities**: Each model's architectural sensitivities to context, word usage, and language patterns influence their performance. Transformer models like BERT and XLNet, designed for nuanced contextual understanding, appear to identify a moderate level of similarity, recognizing overlaps and distinctions in legal language.\n",
        "\n",
        "- **Impact of Aggregation**: Aggregating all laws into a single document for TF-IDF comparison tends to mask individual differences, hence the high similarity score. It emphasizes the global presence of legal terminology but loses the granularity of law-specific language nuances.\n",
        "\n",
        "- **Stylistic vs. Semantic Similarity**: GPT-2's exceptionally high similarity score might suggest that it is capturing stylistic coherence rather than deep semantic parallels, which could inflate similarity scores if the emphasis is on the formal structure rather than on varied legal content.\n",
        "\n",
        "- **Granularity and Context**: The lower similarity scores from TF-IDF's law-by-law comparison illustrate the importance of granularity in legal text analysis. A detailed approach reveals the diversity and specificity of legal provisions across jurisdictions, resulting in a more conservative similarity estimate.\n",
        "\n",
        "- **Inconsistent Dataset**: Our team struggled finding a good dataset till the end and we ended up making our own using a scraper from Justia website but the datasets not being exactly the same in terms of number of laws, the laws we scrapped from California Penal Laws are much higher in number than NY Penal laws, this is also affecting the avg. scores of models after the comparison as it is comparing each and every law with each other.\n",
        "\n",
        "Overall, these results suggest that the choice of model and methodology significantly affects the similarity scores obtained in textual analysis. The findings highlight a trade-off between capturing stylistic/formal similarities and delving into the semantic intricacies of legal language. For legal texts, where precision and context are paramount, models like BERT and XLNet may strike a better balance between recognizing overarching legal language patterns and discerning detailed statutory differences. While RoBERTa might simply be a better model compared to BERT and XLNet as it is trained on a much bigger dataset compared to BERT but we are unsure if that's the reason for the high similarity score or if its facing the same issue as GPT-2 of not considering the semantics of the laws."
      ],
      "metadata": {
        "id": "0sHRP_catu6E"
      }
    }
  ]
}
